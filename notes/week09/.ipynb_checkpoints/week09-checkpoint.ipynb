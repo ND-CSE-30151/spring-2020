{
 "cells": [
  {
   "cell_type": "markdown",
   "metadata": {},
   "source": [
    "# Week 9: Universal TMs and undecidability"
   ]
  },
  {
   "cell_type": "code",
   "execution_count": 4,
   "metadata": {},
   "outputs": [],
   "source": [
    "from tock import *"
   ]
  },
  {
   "cell_type": "markdown",
   "metadata": {},
   "source": [
    "## Monday reading\n",
    "\n",
    "Skim Section 4.1 but take a good look at Figure 4.10; read Section 4.2."
   ]
  },
  {
   "cell_type": "markdown",
   "metadata": {},
   "source": [
    "## Tuesday class\n",
    "\n",
    "Section 4.1 is long. It shows:\n",
    "\n",
    "- Regular, context-free, decidable, and Turing-recognizable languages form a hierarchy (Figure 4.10).\n",
    "- Some results about regular and context-free languages that are interesting in their own right, like the fact that you can test whether two DFAs are equivalent. (We used this fact to partially automate the grading of one exam question.)\n",
    "- A more subtle point is that _a priori_ we might think that some context-free languages are not decidable. For a PDA can have a computation branch that goes on forever. But in fact, it's possible to simulate the PDA so that infinite computation branches can be detected and cut short.\n",
    "\n",
    "### Universal Turing machines\n",
    "\n",
    "Our focus for today is the universal TM $U$ defined at the beginning of the proof of Theorem 4.11. It is a TM that can simulate another TM. We've talked many times in this class about machines that simulate other machines (for example, the DFA for the intersection of two regular languages simulates the two machines that recognize the two languages), but whereas in those cases, the simulated machine was always hard-coded into the simulator, the universal TM is different because the code of the simulated machine is _part of the input_. That is, it takes as input both the code of a TM $M$ and an input string $w$, and simulates what $M$ would do on $w$.\n",
    "\n",
    "For some reason, the book deemphasizes this idea. It's significant not only because of its relevance to Theorem 4.11, but also because it gave rise to (or at least anticipated) the idea of a stored program computer. To make the idea of a UTM more concrete, let's sketch what it would look like.\n",
    "\n",
    "First, we have to show how to encode a TM as a string. This is easy to do and the details are not important, but it's worth at least mentioning one way to do it for concreteness. Turing's original encoding used an alphabet $\\{\\mathtt{A}, \\mathtt{C}, \\mathtt{D}, \\mathtt{L}, \\mathtt{R}, \\mathtt{N}\\}$. If the states in $Q$ are numbered $q_1, q_2, \\ldots$, then state $q_i$ is encoded as $\\mathtt{DA}^i$. If the symbols in $\\Gamma$ are numbered $a_0, a_1, \\ldots$, where $a_0$ is the blank symbol, then symbol $a_i$ is encoded as $\\mathtt{DC}^i$. Then, the transition $\\delta(q_i, a_j) = (q_k, a_\\ell, \\textrm{L})$ is encoded as $\\mathtt{DA}^i \\mathtt{DC}^j \\mathtt{DC}^\\ell \\mathtt{L} \\mathtt{DA}^k$, and similarly if the move is R or N (for \"no move,\" equivalent to the book's S). We also need some convention for indicating the start, accept, and reject states: perhaps $q_1$ is always the start state, $q_2$ the accept state, and $q_3$ the reject state.\n",
    "\n",
    "Second, we have to show the universal TM itself. It is often constructed as a TM with three tapes:\n",
    "\n",
    "1. An encoding of $M$, the machine being simulated.\n",
    "2. The tape of $M$.\n",
    "3. The state of $M$.\n",
    "\n",
    "An implementation description would be: On input $\\langle M, w\\rangle$, where $M$ is a TM and $w$ is a string:\n",
    "\n",
    "1. Copy $M$ onto tape 1 and $w$ onto tape 2.\n",
    "2. Initialize tape 3 to the start state of $M$.\n",
    "3. Repeat:\n",
    "   1. If the state (tape 3) is the accept state, _accept_; if it is the reject state, _reject_.\n",
    "   2. Search on tape 1 for an instruction that matches the current state (encoded on tape 3) and current input symbol (encoded on tape 2).\n",
    "   3. Write the new state to tape 3 and the new symbol to tape 2.\n",
    "   4. Move the head on tape 2 to the left or right as indicated by the instruction."
   ]
  },
  {
   "cell_type": "markdown",
   "metadata": {},
   "source": [
    "### A really big UTM\n",
    "\n",
    "The [8cc+elvm compiler](https://github.com/shinh/elvm) can compile C code into many different esoteric languages. We've contributed a Turing machine backend, so it can compile a C program into a Turing machine."
   ]
  },
  {
   "cell_type": "code",
   "execution_count": 11,
   "metadata": {},
   "outputs": [
    {
     "name": "stdout",
     "output_type": "stream",
     "text": [
      "int putchar(int);\n",
      "\n",
      "int main() {\n",
      "  const char* p = \"Hello, world.\\n\";\n",
      "  for (; *p; p++)\n",
      "    putchar(*p);\n",
      "  return 0;\n",
      "}\n"
     ]
    }
   ],
   "source": [
    "!cat hello.c"
   ]
  },
  {
   "cell_type": "code",
   "execution_count": 13,
   "metadata": {},
   "outputs": [
    {
     "name": "stdout",
     "output_type": "stream",
     "text": [
      "   62673 hello.tm\n"
     ]
    }
   ],
   "source": [
    "!wc -l hello.tm"
   ]
  },
  {
   "cell_type": "code",
   "execution_count": 12,
   "metadata": {},
   "outputs": [
    {
     "name": "stdout",
     "output_type": "stream",
     "text": [
      "// trie for jmp reg\n",
      "9 _ 10 _ R\n",
      "11 _ 12 _ R\n",
      "13 _ 14 _ R\n",
      "15 _ 16 _ R\n",
      "17 _ 18 _ R\n",
      "19 _ 20 _ R\n",
      "21 _ 22 _ R\n",
      "23 _ 24 _ R\n",
      "25 _ 26 _ R\n"
     ]
    }
   ],
   "source": [
    "!head hello.tm"
   ]
  },
  {
   "cell_type": "markdown",
   "metadata": {},
   "source": [
    "Simplified state diagram (no transition labels):\n",
    "\n",
    "![Hello world Turing machine](hello.svg)"
   ]
  },
  {
   "cell_type": "markdown",
   "metadata": {},
   "source": [
    "We've also contributed a Turing machine simulator, written in the subset of C supported by 8cc."
   ]
  },
  {
   "cell_type": "code",
   "execution_count": 14,
   "metadata": {},
   "outputs": [
    {
     "name": "stdout",
     "output_type": "stream",
     "text": [
      "     369 tm.c\n"
     ]
    }
   ],
   "source": [
    "!wc -l tm.c"
   ]
  },
  {
   "cell_type": "code",
   "execution_count": 15,
   "metadata": {},
   "outputs": [
    {
     "name": "stdout",
     "output_type": "stream",
     "text": [
      "/* Simulator for deterministic Turing machines.\n",
      "\n",
      "   Usage: tm [-b] [-n] [-v|-vv] <tm-file> \n",
      "\n",
      "   where <tm-file> contains a description of a Turing machine. Each\n",
      "   line in the machine description specifies a transition:\n",
      "\n",
      "   q a r b d\n",
      "\n",
      "   where \n"
     ]
    }
   ],
   "source": [
    "!head tm.c"
   ]
  },
  {
   "cell_type": "markdown",
   "metadata": {},
   "source": [
    "So if we run the C-to-TM compiler on the TM simulator, we get a UTM. This UTM has about a million states and 13 million transitions. (Just `#include <stdio.h>` generates almost 9 million, so it's possible there are unused transitions in there.)"
   ]
  },
  {
   "cell_type": "markdown",
   "metadata": {},
   "source": [
    "### The smallest UTM\n",
    "\n",
    "There's a cottage industry of seeing who can make the smallest universal TM. The [current record holder](https://web.archive.org/web/20161226084440/http://alvyray.com/CreativeCommons/BizCardUniversalTuringMachine_v2.2.pdf), due to Rogozhin, has only a couple dozen instructions:"
   ]
  },
  {
   "cell_type": "code",
   "execution_count": 11,
   "metadata": {},
   "outputs": [
    {
     "data": {
      "image/svg+xml": [
       "<svg xmlns=\"http://www.w3.org/2000/svg\" xmlns:xlink=\"http://www.w3.org/1999/xlink\" width=\"732pt\" height=\"168pt\" viewBox=\"0.00 0.00 732.00 167.92\">\n",
       "<g id=\"graph0\" class=\"graph\" transform=\"scale(1 1) rotate(0) translate(4 163.92)\">\n",
       "<title>%3</title>\n",
       "<polygon fill=\"white\" stroke=\"transparent\" points=\"-4,4 -4,-163.92 728,-163.92 728,4 -4,4\"/>\n",
       "<!-- _START -->\n",
       "<g id=\"node1\" class=\"node\">\n",
       "<title>_START</title>\n",
       "</g>\n",
       "<!-- 3 -->\n",
       "<g id=\"node5\" class=\"node\">\n",
       "<title>3</title>\n",
       "<path fill=\"none\" stroke=\"black\" d=\"M64.83,-44.42C64.83,-44.42 55.17,-44.42 55.17,-44.42 52.33,-44.42 49.5,-41.59 49.5,-38.75 49.5,-38.75 49.5,-33.09 49.5,-33.09 49.5,-30.25 52.33,-27.42 55.17,-27.42 55.17,-27.42 64.83,-27.42 64.83,-27.42 67.67,-27.42 70.5,-30.25 70.5,-33.09 70.5,-33.09 70.5,-38.75 70.5,-38.75 70.5,-41.59 67.67,-44.42 64.83,-44.42\"/>\n",
       "<text text-anchor=\"start\" x=\"53.5\" y=\"-33.42\" font-family=\"Courier,monospace\" font-size=\"10.00\">q0</text>\n",
       "</g>\n",
       "<!-- _START&#45;&gt;3 -->\n",
       "<g id=\"edge1\" class=\"edge\">\n",
       "<title>_START-&gt;3</title>\n",
       "<path fill=\"none\" stroke=\"black\" d=\"M1.17,-35.92C3.41,-35.92 27.87,-35.92 44.25,-35.92\"/>\n",
       "<polygon fill=\"black\" stroke=\"black\" points=\"49.45,-35.92 44.46,-38.17 46.95,-35.92 44.45,-35.92 44.45,-35.92 44.45,-35.92 46.95,-35.92 44.45,-33.67 49.45,-35.92 49.45,-35.92\"/>\n",
       "</g>\n",
       "<!-- 0 -->\n",
       "<g id=\"node2\" class=\"node\">\n",
       "<title>0</title>\n",
       "<path fill=\"none\" stroke=\"black\" d=\"M338.83,-44.42C338.83,-44.42 329.17,-44.42 329.17,-44.42 326.33,-44.42 323.5,-41.59 323.5,-38.75 323.5,-38.75 323.5,-33.09 323.5,-33.09 323.5,-30.25 326.33,-27.42 329.17,-27.42 329.17,-27.42 338.83,-27.42 338.83,-27.42 341.67,-27.42 344.5,-30.25 344.5,-33.09 344.5,-33.09 344.5,-38.75 344.5,-38.75 344.5,-41.59 341.67,-44.42 338.83,-44.42\"/>\n",
       "<text text-anchor=\"start\" x=\"327.5\" y=\"-33.42\" font-family=\"Courier,monospace\" font-size=\"10.00\">q4</text>\n",
       "</g>\n",
       "<!-- 0&#45;&gt;0 -->\n",
       "<g id=\"edge13\" class=\"edge\">\n",
       "<title>0-&gt;0</title>\n",
       "<path fill=\"none\" stroke=\"black\" d=\"M325.06,-44.6C320.12,-53.09 323.1,-62.42 334,-62.42 342.85,-62.42 346.48,-56.26 344.88,-49.4\"/>\n",
       "<polygon fill=\"black\" stroke=\"black\" points=\"342.94,-44.6 346.9,-48.39 343.88,-46.92 344.82,-49.24 344.82,-49.24 344.82,-49.24 343.88,-46.92 342.73,-50.08 342.94,-44.6 342.94,-44.6\"/>\n",
       "<text text-anchor=\"start\" x=\"316\" y=\"-96.22\" font-family=\"Courier,monospace\" font-size=\"9.00\">1 → _ ^</text>\n",
       "<text text-anchor=\"start\" x=\"316\" y=\"-82.22\" font-family=\"Courier,monospace\" font-size=\"9.00\">3 → 4 ^</text>\n",
       "<text text-anchor=\"start\" x=\"316\" y=\"-68.22\" font-family=\"Courier,monospace\" font-size=\"9.00\">5 → 2 ^</text>\n",
       "</g>\n",
       "<!-- 2 -->\n",
       "<g id=\"node4\" class=\"node\">\n",
       "<title>2</title>\n",
       "<path fill=\"none\" stroke=\"black\" d=\"M714.33,-114.42C714.33,-114.42 680.67,-114.42 680.67,-114.42 677.83,-114.42 675,-111.59 675,-108.75 675,-108.75 675,-103.09 675,-103.09 675,-100.25 677.83,-97.42 680.67,-97.42 680.67,-97.42 714.33,-97.42 714.33,-97.42 717.17,-97.42 720,-100.25 720,-103.09 720,-103.09 720,-108.75 720,-108.75 720,-111.59 717.17,-114.42 714.33,-114.42\"/>\n",
       "<path fill=\"none\" stroke=\"black\" d=\"M715.67,-118.42C715.67,-118.42 679.33,-118.42 679.33,-118.42 675.17,-118.42 671,-114.25 671,-110.09 671,-110.09 671,-101.75 671,-101.75 671,-97.59 675.17,-93.42 679.33,-93.42 679.33,-93.42 715.67,-93.42 715.67,-93.42 719.83,-93.42 724,-97.59 724,-101.75 724,-101.75 724,-110.09 724,-110.09 724,-114.25 719.83,-118.42 715.67,-118.42\"/>\n",
       "<text text-anchor=\"start\" x=\"679\" y=\"-103.42\" font-family=\"Courier,monospace\" font-size=\"10.00\">accept</text>\n",
       "</g>\n",
       "<!-- 0&#45;&gt;2 -->\n",
       "<g id=\"edge14\" class=\"edge\">\n",
       "<title>0-&gt;2</title>\n",
       "<path fill=\"none\" stroke=\"black\" d=\"M340.7,-44.63C354.22,-64.39 390.48,-112.28 435,-129.92 513.68,-161.09 615.74,-134.44 665.92,-117.43\"/>\n",
       "<polygon fill=\"black\" stroke=\"black\" points=\"670.9,-115.71 666.9,-119.47 668.54,-116.53 666.17,-117.34 666.17,-117.34 666.17,-117.34 668.54,-116.53 665.44,-115.21 670.9,-115.71 670.9,-115.71\"/>\n",
       "<text text-anchor=\"start\" x=\"519.5\" y=\"-149.72\" font-family=\"Courier,monospace\" font-size=\"9.00\">4 → 4</text>\n",
       "</g>\n",
       "<!-- 5 -->\n",
       "<g id=\"node7\" class=\"node\">\n",
       "<title>5</title>\n",
       "<path fill=\"none\" stroke=\"black\" d=\"M468.83,-44.42C468.83,-44.42 459.17,-44.42 459.17,-44.42 456.33,-44.42 453.5,-41.59 453.5,-38.75 453.5,-38.75 453.5,-33.09 453.5,-33.09 453.5,-30.25 456.33,-27.42 459.17,-27.42 459.17,-27.42 468.83,-27.42 468.83,-27.42 471.67,-27.42 474.5,-30.25 474.5,-33.09 474.5,-33.09 474.5,-38.75 474.5,-38.75 474.5,-41.59 471.67,-44.42 468.83,-44.42\"/>\n",
       "<text text-anchor=\"start\" x=\"457.5\" y=\"-33.42\" font-family=\"Courier,monospace\" font-size=\"10.00\">q2</text>\n",
       "</g>\n",
       "<!-- 0&#45;&gt;5 -->\n",
       "<g id=\"edge12\" class=\"edge\">\n",
       "<title>0-&gt;5</title>\n",
       "<path fill=\"none\" stroke=\"black\" d=\"M344.62,-35.92C366.77,-35.92 421.48,-35.92 448.05,-35.92\"/>\n",
       "<polygon fill=\"black\" stroke=\"black\" points=\"453.27,-35.92 448.27,-38.17 450.77,-35.92 448.27,-35.92 448.27,-35.92 448.27,-35.92 450.77,-35.92 448.27,-33.67 453.27,-35.92 453.27,-35.92\"/>\n",
       "<text text-anchor=\"start\" x=\"377.5\" y=\"-55.72\" font-family=\"Courier,monospace\" font-size=\"9.00\">_ → ^ 5</text>\n",
       "<text text-anchor=\"start\" x=\"377.5\" y=\"-41.72\" font-family=\"Courier,monospace\" font-size=\"9.00\">2 → ^ 5</text>\n",
       "</g>\n",
       "<!-- 1 -->\n",
       "<g id=\"node3\" class=\"node\">\n",
       "<title>1</title>\n",
       "<path fill=\"none\" stroke=\"black\" d=\"M591.83,-56.42C591.83,-56.42 582.17,-56.42 582.17,-56.42 579.33,-56.42 576.5,-53.59 576.5,-50.75 576.5,-50.75 576.5,-45.09 576.5,-45.09 576.5,-42.25 579.33,-39.42 582.17,-39.42 582.17,-39.42 591.83,-39.42 591.83,-39.42 594.67,-39.42 597.5,-42.25 597.5,-45.09 597.5,-45.09 597.5,-50.75 597.5,-50.75 597.5,-53.59 594.67,-56.42 591.83,-56.42\"/>\n",
       "<text text-anchor=\"start\" x=\"580.5\" y=\"-45.42\" font-family=\"Courier,monospace\" font-size=\"10.00\">q3</text>\n",
       "</g>\n",
       "<!-- 1&#45;&gt;0 -->\n",
       "<g id=\"edge10\" class=\"edge\">\n",
       "<title>1-&gt;0</title>\n",
       "<path fill=\"none\" stroke=\"black\" d=\"M578.1,-39.17C572.06,-32.97 563.22,-24.9 554,-19.92 529.24,-6.54 520.88,-6.73 493,-2.92 467.46,0.57 460.45,1.17 435,-2.92 403.65,-7.96 368.81,-21.35 349.65,-29.44\"/>\n",
       "<polygon fill=\"black\" stroke=\"black\" points=\"344.67,-31.57 348.38,-27.53 346.97,-30.58 349.27,-29.6 349.27,-29.6 349.27,-29.6 346.97,-30.58 350.16,-31.67 344.67,-31.57 344.67,-31.57\"/>\n",
       "<text text-anchor=\"start\" x=\"446\" y=\"-8.72\" font-family=\"Courier,monospace\" font-size=\"9.00\">2 → 4 ^</text>\n",
       "</g>\n",
       "<!-- 1&#45;&gt;1 -->\n",
       "<g id=\"edge9\" class=\"edge\">\n",
       "<title>1-&gt;1</title>\n",
       "<path fill=\"none\" stroke=\"black\" d=\"M579.85,-56.6C575.9,-65.09 578.28,-74.42 587,-74.42 594.08,-74.42 596.99,-68.26 595.71,-61.4\"/>\n",
       "<polygon fill=\"black\" stroke=\"black\" points=\"594.15,-56.6 597.83,-60.67 594.92,-58.98 595.69,-61.36 595.69,-61.36 595.69,-61.36 594.92,-58.98 593.55,-62.05 594.15,-56.6 594.15,-56.6\"/>\n",
       "<text text-anchor=\"start\" x=\"569\" y=\"-94.22\" font-family=\"Courier,monospace\" font-size=\"9.00\">1 → 1 ^</text>\n",
       "<text text-anchor=\"start\" x=\"569\" y=\"-80.22\" font-family=\"Courier,monospace\" font-size=\"9.00\">3 → 2 ^</text>\n",
       "</g>\n",
       "<!-- 1&#45;&gt;2 -->\n",
       "<g id=\"edge11\" class=\"edge\">\n",
       "<title>1-&gt;2</title>\n",
       "<path fill=\"none\" stroke=\"black\" d=\"M597.63,-53.07C613.38,-61.49 645.24,-78.52 668.55,-90.98\"/>\n",
       "<polygon fill=\"black\" stroke=\"black\" points=\"673.09,-93.41 667.62,-93.03 670.89,-92.23 668.69,-91.05 668.69,-91.05 668.69,-91.05 670.89,-92.23 669.75,-89.07 673.09,-93.41 673.09,-93.41\"/>\n",
       "<text text-anchor=\"start\" x=\"623.5\" y=\"-87.72\" font-family=\"Courier,monospace\" font-size=\"9.00\">4 → 4</text>\n",
       "</g>\n",
       "<!-- 1&#45;&gt;5 -->\n",
       "<g id=\"edge8\" class=\"edge\">\n",
       "<title>1-&gt;5</title>\n",
       "<path fill=\"none\" stroke=\"black\" d=\"M576.32,-39.86C570.31,-35.39 562.19,-30.27 554,-27.92 528.59,-20.63 497.58,-26.59 479.68,-31.39\"/>\n",
       "<polygon fill=\"black\" stroke=\"black\" points=\"474.57,-32.82 478.77,-29.3 476.98,-32.15 479.38,-31.47 479.38,-31.47 479.38,-31.47 476.98,-32.15 479.99,-33.64 474.57,-32.82 474.57,-32.82\"/>\n",
       "<text text-anchor=\"start\" x=\"514.5\" y=\"-33.72\" font-family=\"Courier,monospace\" font-size=\"9.00\">_ → 5 ^</text>\n",
       "</g>\n",
       "<!-- 3&#45;&gt;3 -->\n",
       "<g id=\"edge2\" class=\"edge\">\n",
       "<title>3-&gt;3</title>\n",
       "<path fill=\"none\" stroke=\"black\" d=\"M54.04,-44.6C50.75,-53.09 52.73,-62.42 60,-62.42 65.79,-62.42 68.23,-56.5 67.31,-49.8\"/>\n",
       "<polygon fill=\"black\" stroke=\"black\" points=\"65.96,-44.6 69.4,-48.88 66.59,-47.02 67.22,-49.44 67.22,-49.44 67.22,-49.44 66.59,-47.02 65.04,-50.01 65.96,-44.6 65.96,-44.6\"/>\n",
       "<text text-anchor=\"start\" x=\"42\" y=\"-96.22\" font-family=\"Courier,monospace\" font-size=\"9.00\">1 → 1 ^</text>\n",
       "<text text-anchor=\"start\" x=\"42\" y=\"-82.22\" font-family=\"Courier,monospace\" font-size=\"9.00\">2 → 2 ^</text>\n",
       "<text text-anchor=\"start\" x=\"42\" y=\"-68.22\" font-family=\"Courier,monospace\" font-size=\"9.00\">4 → 4 ^</text>\n",
       "</g>\n",
       "<!-- 4 -->\n",
       "<g id=\"node6\" class=\"node\">\n",
       "<title>4</title>\n",
       "<path fill=\"none\" stroke=\"black\" d=\"M201.83,-44.42C201.83,-44.42 192.17,-44.42 192.17,-44.42 189.33,-44.42 186.5,-41.59 186.5,-38.75 186.5,-38.75 186.5,-33.09 186.5,-33.09 186.5,-30.25 189.33,-27.42 192.17,-27.42 192.17,-27.42 201.83,-27.42 201.83,-27.42 204.67,-27.42 207.5,-30.25 207.5,-33.09 207.5,-33.09 207.5,-38.75 207.5,-38.75 207.5,-41.59 204.67,-44.42 201.83,-44.42\"/>\n",
       "<text text-anchor=\"start\" x=\"190.5\" y=\"-33.42\" font-family=\"Courier,monospace\" font-size=\"10.00\">q1</text>\n",
       "</g>\n",
       "<!-- 3&#45;&gt;4 -->\n",
       "<g id=\"edge3\" class=\"edge\">\n",
       "<title>3-&gt;4</title>\n",
       "<path fill=\"none\" stroke=\"black\" d=\"M70.71,-35.92C94.06,-35.92 153.48,-35.92 181.26,-35.92\"/>\n",
       "<polygon fill=\"black\" stroke=\"black\" points=\"186.38,-35.92 181.38,-38.17 183.88,-35.92 181.38,-35.92 181.38,-35.92 181.38,-35.92 183.88,-35.92 181.38,-33.67 186.38,-35.92 186.38,-35.92\"/>\n",
       "<text text-anchor=\"start\" x=\"103.5\" y=\"-41.72\" font-family=\"Courier,monospace\" font-size=\"9.00\">5 → 2 ^</text>\n",
       "</g>\n",
       "<!-- 4&#45;&gt;0 -->\n",
       "<g id=\"edge5\" class=\"edge\">\n",
       "<title>4-&gt;0</title>\n",
       "<path fill=\"none\" stroke=\"black\" d=\"M207.71,-35.92C231.06,-35.92 290.48,-35.92 318.26,-35.92\"/>\n",
       "<polygon fill=\"black\" stroke=\"black\" points=\"323.38,-35.92 318.38,-38.17 320.88,-35.92 318.38,-35.92 318.38,-35.92 318.38,-35.92 320.88,-35.92 318.38,-33.67 323.38,-35.92 323.38,-35.92\"/>\n",
       "<text text-anchor=\"start\" x=\"254.5\" y=\"-41.72\" font-family=\"Courier,monospace\" font-size=\"9.00\">5 → _ ^</text>\n",
       "</g>\n",
       "<!-- 4&#45;&gt;4 -->\n",
       "<g id=\"edge4\" class=\"edge\">\n",
       "<title>4-&gt;4</title>\n",
       "<path fill=\"none\" stroke=\"black\" d=\"M186.38,-44.06C179.73,-52.69 183.27,-62.42 197,-62.42 208.37,-62.42 212.75,-55.74 210.15,-48.55\"/>\n",
       "<polygon fill=\"black\" stroke=\"black\" points=\"207.62,-44.06 212.03,-47.31 208.85,-46.24 210.07,-48.42 210.07,-48.42 210.07,-48.42 208.85,-46.24 208.11,-49.52 207.62,-44.06 207.62,-44.06\"/>\n",
       "<text text-anchor=\"start\" x=\"179\" y=\"-124.22\" font-family=\"Courier,monospace\" font-size=\"9.00\">_ → ^ _</text>\n",
       "<text text-anchor=\"start\" x=\"179\" y=\"-110.22\" font-family=\"Courier,monospace\" font-size=\"9.00\">1 → ^ 4</text>\n",
       "<text text-anchor=\"start\" x=\"179\" y=\"-96.22\" font-family=\"Courier,monospace\" font-size=\"9.00\">2 → 3 ^</text>\n",
       "<text text-anchor=\"start\" x=\"179\" y=\"-82.22\" font-family=\"Courier,monospace\" font-size=\"9.00\">3 → ^ 2</text>\n",
       "<text text-anchor=\"start\" x=\"179\" y=\"-68.22\" font-family=\"Courier,monospace\" font-size=\"9.00\">4 → _ ^</text>\n",
       "</g>\n",
       "<!-- 5&#45;&gt;1 -->\n",
       "<g id=\"edge7\" class=\"edge\">\n",
       "<title>5-&gt;1</title>\n",
       "<path fill=\"none\" stroke=\"black\" d=\"M474.73,-39.23C483.94,-42.18 498.23,-46.28 511,-47.92 531.7,-50.57 555.89,-49.9 571.08,-49.03\"/>\n",
       "<polygon fill=\"black\" stroke=\"black\" points=\"576.24,-48.71 571.39,-51.27 573.75,-48.86 571.25,-49.02 571.25,-49.02 571.25,-49.02 573.75,-48.86 571.11,-46.78 576.24,-48.71 576.24,-48.71\"/>\n",
       "<text text-anchor=\"start\" x=\"514.5\" y=\"-54.72\" font-family=\"Courier,monospace\" font-size=\"9.00\">2 → ^ 3</text>\n",
       "</g>\n",
       "<!-- 5&#45;&gt;5 -->\n",
       "<g id=\"edge6\" class=\"edge\">\n",
       "<title>5-&gt;5</title>\n",
       "<path fill=\"none\" stroke=\"black\" d=\"M453.87,-44.6C448.27,-53.09 451.65,-62.42 464,-62.42 474.04,-62.42 478.15,-56.26 476.33,-49.4\"/>\n",
       "<polygon fill=\"black\" stroke=\"black\" points=\"474.13,-44.6 478.26,-48.21 475.18,-46.88 476.22,-49.15 476.22,-49.15 476.22,-49.15 475.18,-46.88 474.17,-50.09 474.13,-44.6 474.13,-44.6\"/>\n",
       "<text text-anchor=\"start\" x=\"446\" y=\"-110.22\" font-family=\"Courier,monospace\" font-size=\"9.00\">_ → ^ 1</text>\n",
       "<text text-anchor=\"start\" x=\"446\" y=\"-96.22\" font-family=\"Courier,monospace\" font-size=\"9.00\">1 → _ ^</text>\n",
       "<text text-anchor=\"start\" x=\"446\" y=\"-82.22\" font-family=\"Courier,monospace\" font-size=\"9.00\">3 → 4 ^</text>\n",
       "<text text-anchor=\"start\" x=\"446\" y=\"-68.22\" font-family=\"Courier,monospace\" font-size=\"9.00\">4 → ^ 3</text>\n",
       "</g>\n",
       "</g>\n",
       "</svg>"
      ],
      "text/plain": [
       "<IPython.core.display.SVG object>"
      ]
     },
     "metadata": {},
     "output_type": "display_data"
    }
   ],
   "source": [
    "u = read_csv('utm.csv')\n",
    "u"
   ]
  },
  {
   "cell_type": "markdown",
   "metadata": {},
   "source": [
    "The reason it can be so small is that the way it \"encodes\" of a TM is actually to compile it into a simpler (but still Turing-equivalent) formalism called a _2-tag system_.\n",
    "\n",
    "The example $M_2$ from the book, which has 5 (non-accept, non-reject) states and 12 transitions, compiles into a 2-tag system with 450 rules. This 2-tag system, combined with the input string 0, compiles into a string with 6.5 million symbols.\n",
    "\n",
    "Running the UTM is very slow. I had to write a special simulator that enables it to \"fast-forward\" in certain cases, and found that it accepts (as it should) after 46 trillion moves."
   ]
  },
  {
   "cell_type": "markdown",
   "metadata": {},
   "source": [
    "## Wednesday reading\n",
    "\n",
    "Re-read Section 4.2. "
   ]
  },
  {
   "cell_type": "markdown",
   "metadata": {},
   "source": [
    "## Thursday class\n",
    "\n",
    "Today's topic is undecidability: is there such a thing as a language that can't be decided by a Turing machine (and therefore, by any computer program as we know it)?\n",
    "\n",
    "Sipser's explanation has three parts. First (\"The Diagonalization Method\"), there is a long digression about countable and uncountable infinities. If you are not familiar with these concepts and Cantor's diagonalization argument, pay careful attention to this subsection, even though it may not seem relevant at first. The point of this digression is that the vast majority of languages are _not_ Turing-recognizable (or decidable).\n",
    "\n",
    "Second, he gives an actual example of an undecidable language, $A_{\\mathsf{TM}}$. (In the 2nd edition of the book, this subsection (beginning on page 179) is misleadingly called \"The Halting Problem.\" But the language $A_{\\mathsf{TM}}$ is _not_ the halting problem, and this subsection was rightly retitled \"An Undecidable Language\" in the 3rd edition.) What would it mean for $A_{\\mathsf{TM}}$ to be decidable? We saw previously that even if a NFA or PDA has an infinite loop, we can convert it into one that doesn't have an infinite loop; so we didn't make a distinction between NFA-recognizable and NFA-decidable, or PDA-recognizable and PDA-decidable. Similarly, if $A_{\\mathsf{TM}}$ were decidable, we'd be able to convert any TM into a decider TM, and we wouldn't make a distinction between Turing-recognizable and Turing-decidable.\n",
    "\n",
    "Third (starting with \"Where is the diagonalization...?\"), he gives a visual explanation that connects back with the Cantor diagonal argument. If you're a visual learner, you may want to start here."
   ]
  },
  {
   "cell_type": "markdown",
   "metadata": {},
   "source": [
    "### There are uncountably many languages\n",
    "\n",
    "We can adapt Cantor's argument for the uncountability of the reals to an argument for the uncountability of the set of all languages.\n",
    "\n",
    "Suppose that there are countably many languages. Then we can number them $L_1, L_2, L_3, \\ldots$. \n",
    "\n",
    "Assume an alphabet $\\Sigma = \\{\\mathtt{0}, \\mathtt{1}\\}$. We can number all strings in $\\Sigma^\\ast$ in [shortlex order](https://en.wikipedia.org/wiki/Shortlex_order). Call the $j$th string in this ordering $w^{(j)}$. (We use this notation to avoid confusion with the notation $w_j$ for the $j$th symbol of $w$.)\n",
    "\n",
    "Imagine a big table whose $i$th row is $L_i$ and whose $j$th column is $w^{(j)}$, and cell $(i,j)$ says whether $w^{(j)} \\in L_i$.\n",
    "\n",
    "| | $\\varepsilon$ | $\\mathtt{0}$ |$\\mathtt{1}$ | $\\mathtt{00}$ | $\\cdots$ |\n",
    "|-----|-------|-------|-------|-------|--------|\n",
    "|$L_1$| _no_  | _yes_ | _no_  | _yes_ |        |\n",
    "|$L_2$| _no_  | _yes_ | _yes_ | _no_  |        |\n",
    "|$L_3$| _yes_ | _no_  | _yes_ | _no_  |        |\n",
    "|$L_4$| _no_  | _no_  | _no_  | _yes_ |        |\n",
    "|$\\vdots$| | | | | | |\n",
    "\n",
    "Then we can form a new language by taking all the diagonal entries of this table and inverting them (yes to no and no to yes):\n",
    "\n",
    "$$L_D = \\{ w^{(i)} \\mid w^{(i)} \\not\\in L_i \\}.$$\n",
    "\n",
    "This language $L_D$ cannot be equal to any row of the table, because for any $i$, either $w^{(i)} \\in L_D$ but $w^{(i)} \\not\\in L_i$, or $w^{(i)} \\not\\in L_D$ but $w^{(i)} \\in L_i$.\n",
    "\n",
    "But the table supposedly contains all possible languages, which is a contradiction. Therefore there are uncountably many languages."
   ]
  },
  {
   "cell_type": "markdown",
   "metadata": {},
   "source": [
    "### There is an undecidable language\n",
    "\n",
    "Since Turing machines can be encoded as strings, there _is_ a way to number all possible Turing machines $M_1, M_2, M_3, \\ldots$ (e.g., sort their encodings in shortlex order and then number them consecutively). It follows that there are languages (in fact, almost all languages) which cannot be decided by any Turing machine. But we'd like a proof that explicitly constructs such a language.\n",
    "\n",
    "Imagine a big table whose $i$th row is $M_i$ and whose $j$th column is $w^{(j)}$, and cell $(i,j)$ says whether $w^{(j)} \\in \\mathcal{L}(M_i)$ (that is, it says \"yes\" if $M_i$ accepts $w^{(j)}$, but \"no\" if $M_i$ rejects _or_ loops on $w^{(j)}$.)\n",
    "\n",
    "| | $\\varepsilon$ | $\\mathtt{0}$ |$\\mathtt{1}$ | $\\mathtt{00}$ | $\\cdots$ |\n",
    "|-----|-------|-------|-------|-------|--------|\n",
    "|$M_1$| _no_  | _yes_ | _no_  | _yes_ |        |\n",
    "|$M_2$| _no_  | _yes_ | _yes_ | _no_  |        |\n",
    "|$M_3$| _yes_ | _no_  | _yes_ | _no_  |        |\n",
    "|$M_4$| _no_  | _no_  | _no_  | _yes_ |        |\n",
    "|$\\vdots$| | | | | | |\n",
    "\n",
    "We can again form a new language by taking all the diagonal entries of this table and inverting them:\n",
    "\n",
    "$$L_D = \\{w^{(i)} \\mid \\text{$M_i$ does not accept $w^{(i)}$}\\}$$\n",
    "\n",
    "And this language again cannot be equal to any row of the table, because for any $i$, either $w^{(i)} \\in L_D$ but $M_i$ does not accept $w^{(i)}$, or $w^{(i)} \\not\\in L_D$ but $M_i$ accepts $w^{(i)}$.\n",
    "\n",
    "This means that there is no such thing as a Turing machine that decides $L_D$. (In fact, there isn't even one that recognizes it.)"
   ]
  },
  {
   "cell_type": "markdown",
   "metadata": {},
   "source": [
    "### The undecidable language $A_{\\mathsf{TM}}$\n",
    "\n",
    "The book's first example of an undecidable language is\n",
    "\n",
    "$$A_{\\mathsf{TM}} = \\{ \\langle M, w \\rangle \\mid \\text{$M$ accepts $w$} \\}.$$\n",
    "\n",
    "This language will be very useful for proving other undecidable languages. We can prove $A_{\\mathsf{TM}}$ undecidable by continuing our proof above. Suppose that there exists a decider $H$ that decides $A_{\\mathsf{TM}}$. \n",
    "\n",
    "Then we would be able to compute the value of any cell of the above table since $H$ is supposedly a decider. But that would enable us to define a decider for $L_D$. Namely, define a TM $D$ that, on input $w$, \n",
    "\n",
    "1. Find $i$ such that $w = w^{(i)}$.\n",
    "2. Construct machine $M_i$.\n",
    "3. Run $H$ on input $\\langle M_i, w^{(i)} \\rangle$.\n",
    "4. If $H$ accepts, *reject*, and if $H$ rejects, *accept*.\n",
    "\n",
    "But we know this is impossible, either by using the undecidability of $L_D$ as shown above, or we can repeat the argument again. If $D$ exists, then for some $i$, $D = M_i$. If $D$ accepts $w^{(i)}$, then (by the definition of $D$) we know that $H$ rejects $\\langle D, w^{(i)}\\rangle$, but (by the definition of $H$) it was supposed to accept. Similarly, if $D$ rejects $w^{(i)}$, then (by the definition of $D$) we know that $H$ accepts $\\langle D, w^{(i)}\\rangle$, but (by the definition of $H$) it was supposed to reject. Therefore, $D$ cannot exist, and $A_{\\mathsf{TM}}$ is undecidable."
   ]
  },
  {
   "cell_type": "markdown",
   "metadata": {},
   "source": [
    "### The halting problem\n",
    "\n",
    "Most books use the following language as their first undecidable language:\n",
    "\n",
    "$$\\mathit{HALT}_{\\mathsf{TM}} = \\{ \\langle M, w \\rangle \\mid \\text{$M$ halts on $w$} \\}.$$\n",
    "\n",
    "This is probably the most well-known undecidable problem: Can you write a program that looks at another program $M$ and input $w$ and decides whether $M$ halts or loops on $w$?\n",
    "\n",
    "The proof of undecidability is similar to the one above. Suppose that this language was decidable, that is, there is a TM $P$ that decides it. Then we could implement a Turing machine $Q$:\n",
    "\n",
    "$Q = $\"On input $\\langle M \\rangle$:\n",
    "1. Find $i$ such that $w = w^{(i)}$.\n",
    "2. Construct machine $M_i$.\n",
    "3. Run $P$ on input $\\langle M_i, w^{(i)} \\rangle$.\n",
    "4. If $P$ accepts, *loop*; if $P$ rejects, *accept*.\n",
    "\n",
    "If $Q$ exists, then for some $i$, $Q=M_i$. If $Q$ halts on $w^{(i)}$, then (by the definition of $Q$) we know that $P$ rejects $\\langle Q, w^{(i)}\\rangle$, but (by the definition of $P$) it was supposed to accept. Similarly, if $Q$ loops on $w^{(i)}$, then (by the definition of $Q$) we know that $P$ accepts $\\langle Q, w^{(i)}\\rangle$, but (by the definition of $P$) it was supposed to reject. Therefore, $P$ cannot exist, and $\\mathit{HALT}_{\\mathsf{TM}}$ is undecidable.\n",
    "\n",
    "### In verse\n",
    "\n",
    "Read Geoff Pullum's \"[Scooping the Loop Snooper](http://www.lel.ed.ac.uk/~gpullum/loopsnoop.html): A proof that the Halting Problem is undecidable.\""
   ]
  },
  {
   "cell_type": "markdown",
   "metadata": {},
   "source": [
    "### Turing-recognizable and co-Turing-recognizable\n",
    "\n",
    "Decidable languages are clearly closed under complement.\n",
    "\n",
    "The class of Turing-recognizable languages (more commonly known as the recursively enumerable or r.e. languages) is larger than the class of decidable languages. Although $A_{\\mathsf{TM}}$ and $\\textit{HALT}_{\\mathsf{TM}}$ are not decidable, they are both clearly Turing-recognizable.\n",
    "\n",
    "Turing-recognizable languages are not closed under complement. For example, $\\bar{A}_{\\mathsf{TM}}$ cannot be Turing-recognizable; if it were, you could make a decider for $A_{\\mathsf{TM}}$ by running the recognizer for $A_{\\mathsf{TM}}$ and $\\bar{A}_{\\mathsf{TM}}$ at the same time.\n",
    "\n",
    "So there is a class of languages whose *complement* is Turing-recognizable. We call this the class of co-Turing-recognizable languages (more commonly known as the co-r.e. languages). For example, in addition to $\\bar{A}_{\\mathsf{TM}}$ and $\\textit{HALT}_{\\mathsf{TM}}$, $L_D$ is co-Turing-recognizable.\n"
   ]
  }
 ],
 "metadata": {
  "kernelspec": {
   "display_name": "Python 3",
   "language": "python",
   "name": "python3"
  },
  "language_info": {
   "codemirror_mode": {
    "name": "ipython",
    "version": 3
   },
   "file_extension": ".py",
   "mimetype": "text/x-python",
   "name": "python",
   "nbconvert_exporter": "python",
   "pygments_lexer": "ipython3",
   "version": "3.8.1"
  }
 },
 "nbformat": 4,
 "nbformat_minor": 2
}
